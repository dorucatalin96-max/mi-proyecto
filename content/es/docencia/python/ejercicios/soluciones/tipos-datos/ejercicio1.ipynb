{
  "cells": [
    {
      "cell_type": "markdown",
      "metadata": {
        "id": "view-in-github",
        "colab_type": "text"
      },
      "source": [
        "<a href=\"https://colab.research.google.com/github/dorucatalin96-max/mi-proyecto/blob/main/content/es/docencia/python/ejercicios/soluciones/tipos-datos/ejercicio1.ipynb\" target=\"_parent\"><img src=\"https://colab.research.google.com/assets/colab-badge.svg\" alt=\"Open In Colab\"/></a>"
      ]
    },
    {
      "cell_type": "markdown",
      "metadata": {
        "id": "qm5k3-Q_3fHz"
      },
      "source": [
        "## Ejercicio\n",
        "Escribir un programa que muestre por pantalla la frase `¡Hola mundo!`"
      ]
    },
    {
      "cell_type": "markdown",
      "metadata": {
        "id": "lhvbeAiD3fH0"
      },
      "source": [
        "## Solución"
      ]
    },
    {
      "cell_type": "code",
      "execution_count": null,
      "metadata": {
        "id": "jp5y-4X73fH0",
        "outputId": "4c279fe8-f261-4951-aaf6-b7f07197821b"
      },
      "outputs": [
        {
          "name": "stdout",
          "output_type": "stream",
          "text": [
            "¡Hola Mundo!\n"
          ]
        }
      ],
      "source": [
        "print(\"¡Hola Mundo!\")"
      ]
    },
    {
      "cell_type": "code",
      "source": [
        "Hello = \"¡Hola Mundo!\"\n",
        "print(Hello)"
      ],
      "metadata": {
        "colab": {
          "base_uri": "https://localhost:8080/"
        },
        "id": "SKyHV1jR39sA",
        "outputId": "31fb40d8-6d6d-45e6-f165-443e739e5521"
      },
      "execution_count": 2,
      "outputs": [
        {
          "output_type": "stream",
          "name": "stdout",
          "text": [
            "¡Hola Mundo!\n"
          ]
        }
      ]
    },
    {
      "cell_type": "code",
      "execution_count": 3,
      "metadata": {
        "id": "DHV3cgpI5NXT",
        "outputId": "7a4b97d6-7541-4d8c-fa23-3f1dd6dac2c0",
        "colab": {
          "base_uri": "https://localhost:8080/"
        }
      },
      "outputs": [
        {
          "output_type": "stream",
          "name": "stdout",
          "text": [
            "Introduce tu nombre: Doru\n",
            "¡Hola Doru!\n"
          ]
        }
      ],
      "source": [
        "nombre = input(\"Introduce tu nombre: \")\n",
        "print(\"¡Hola \" + nombre + \"!\")"
      ]
    },
    {
      "cell_type": "code",
      "source": [
        "(((3+2) / (2*5)) **2)"
      ],
      "metadata": {
        "colab": {
          "base_uri": "https://localhost:8080/"
        },
        "id": "HS0MxCHS6Wcb",
        "outputId": "10af1d9d-88ed-433e-d9c7-dee69aee3bea"
      },
      "execution_count": 10,
      "outputs": [
        {
          "output_type": "execute_result",
          "data": {
            "text/plain": [
              "0.25"
            ]
          },
          "metadata": {},
          "execution_count": 10
        }
      ]
    },
    {
      "cell_type": "code",
      "source": [
        "numero1 = 5\n",
        "numero2 = 3\n",
        "numero3 = 9\n",
        "\n",
        "media = (numero1 + numero2 + numero3) / 3\n",
        "print(\"La nota media es\", media)\n",
        "multiplicacion = numero1 * numero2\n",
        "print(\"El producto de\", numero1, \"por\", numero2, \"es\", multiplicacion)\n",
        "divison = numero3 / numero2\n",
        "print(\"La division de\", numero3, \"entre\", numero2, \"es\", divison)"
      ],
      "metadata": {
        "colab": {
          "base_uri": "https://localhost:8080/"
        },
        "id": "nrVDRuVE7bKj",
        "outputId": "96087600-a69d-4739-a9d8-6c4d79b8573f"
      },
      "execution_count": 16,
      "outputs": [
        {
          "output_type": "stream",
          "name": "stdout",
          "text": [
            "La nota media es 5.666666666666667\n",
            "El producto de 5 por 3 es 15\n",
            "La division de 9 entre 3 es 3.0\n"
          ]
        }
      ]
    },
    {
      "cell_type": "code",
      "source": [
        "numero_secreto = 7\n",
        "adivinanza = int(input(\"Adivina el número: \"))\n",
        "if adivinanza == numero_secreto:\n",
        "    print(\"¡Acertaste!\")\n",
        "else:\n",
        "    print(\"Inténtalo de nuevo.\")"
      ],
      "metadata": {
        "colab": {
          "base_uri": "https://localhost:8080/"
        },
        "id": "kJMRqXa491cD",
        "outputId": "a06f01d3-5f57-4f89-a30a-f398182624d1"
      },
      "execution_count": 18,
      "outputs": [
        {
          "output_type": "stream",
          "name": "stdout",
          "text": [
            "Adivina el número: 7\n",
            "¡Acertaste!\n"
          ]
        }
      ]
    },
    {
      "cell_type": "code",
      "source": [
        "from re import M\n",
        "mi_lista = []\n",
        "mi_lista.append(1)\n",
        "mi_lista.append(2)\n",
        "mi_lista.append(3)\n",
        "mi_lista.append(1)\n",
        "mi_lista.append(2)\n",
        "mi_lista.append(3)\n",
        "mi_lista.append(4)\n",
        "mi_lista.append(2*3)\n",
        "mi_lista.append(55/25)\n",
        "mi_lista.extend([1,2,3,4])\n",
        "print(mi_lista)\n",
        "mi_lista"
      ],
      "metadata": {
        "colab": {
          "base_uri": "https://localhost:8080/"
        },
        "id": "XP9nVjad-GaW",
        "outputId": "e945965e-8e6c-4a0a-c87a-541ea9db30a3"
      },
      "execution_count": 29,
      "outputs": [
        {
          "output_type": "stream",
          "name": "stdout",
          "text": [
            "[1, 2, 3, 1, 2, 3, 4, 6, 2.2, 1, 2, 3, 4]\n"
          ]
        },
        {
          "output_type": "execute_result",
          "data": {
            "text/plain": [
              "[1, 2, 3, 1, 2, 3, 4, 6, 2.2, 1, 2, 3, 4]"
            ]
          },
          "metadata": {},
          "execution_count": 29
        }
      ]
    },
    {
      "cell_type": "code",
      "source": [
        "animales = [\"gato\", \"perro\", \"pájaro\", \"leon\"]\n",
        "for animal in animales:\n",
        "    print(\"Tengo un\", animal)"
      ],
      "metadata": {
        "colab": {
          "base_uri": "https://localhost:8080/"
        },
        "id": "-ATUHgUPA3pE",
        "outputId": "f59e2258-e151-4a45-c60e-b1e3aed65e86"
      },
      "execution_count": 32,
      "outputs": [
        {
          "output_type": "stream",
          "name": "stdout",
          "text": [
            "Tengo un gato\n",
            "Tengo un perro\n",
            "Tengo un pájaro\n",
            "Tengo un leon\n"
          ]
        }
      ]
    },
    {
      "cell_type": "code",
      "source": [
        "nombre = input(\"Dime tu nombre: \")\n",
        "print(f\"Hola {nombre} \")"
      ],
      "metadata": {
        "colab": {
          "base_uri": "https://localhost:8080/"
        },
        "id": "A1BTNtM1BHjM",
        "outputId": "091002e0-716e-46b0-fa64-bd95a3887800"
      },
      "execution_count": 41,
      "outputs": [
        {
          "output_type": "stream",
          "name": "stdout",
          "text": [
            "Dime tu nombre: Doru\n",
            "Hola Doru \n"
          ]
        }
      ]
    },
    {
      "cell_type": "code",
      "source": [
        "edad = input (\"Dime tu edad:\")\n",
        "edad = int (edad)\n",
        "if edad >=18:\n",
        "  print(\"Eres mayor de edad\")\n",
        "else:\n",
        "  print(\"Eres menor de edad\")"
      ],
      "metadata": {
        "id": "8khst7njC-TX",
        "outputId": "3c7c3dea-183b-401a-8fdd-1f9a442387c4",
        "colab": {
          "base_uri": "https://localhost:8080/"
        }
      },
      "execution_count": 42,
      "outputs": [
        {
          "output_type": "stream",
          "name": "stdout",
          "text": [
            "Dime tu edad:29\n",
            "Eres mayor de edad\n"
          ]
        }
      ]
    },
    {
      "cell_type": "code",
      "source": [],
      "metadata": {
        "id": "NOh9BKQZDZ35"
      },
      "execution_count": null,
      "outputs": []
    }
  ],
  "metadata": {
    "kernelspec": {
      "display_name": "Python 3",
      "language": "python",
      "name": "python3"
    },
    "language_info": {
      "codemirror_mode": {
        "name": "ipython",
        "version": 3
      },
      "file_extension": ".py",
      "mimetype": "text/x-python",
      "name": "python",
      "nbconvert_exporter": "python",
      "pygments_lexer": "ipython3",
      "version": "3.7.1"
    },
    "colab": {
      "provenance": [],
      "include_colab_link": true
    }
  },
  "nbformat": 4,
  "nbformat_minor": 0
}